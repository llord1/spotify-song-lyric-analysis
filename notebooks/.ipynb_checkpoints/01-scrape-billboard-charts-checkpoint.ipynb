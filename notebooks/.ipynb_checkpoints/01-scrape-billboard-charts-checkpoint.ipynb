{
 "cells": [
  {
   "cell_type": "markdown",
   "metadata": {},
   "source": [
    "# 01 - Scraping Billboard Charts\n",
    "This notebook contains code for gathering yearly rankings of Billboard's Hot 100 singles."
   ]
  },
  {
   "cell_type": "code",
   "execution_count": 528,
   "metadata": {
    "ExecuteTime": {
     "end_time": "2018-05-12T06:23:40.504343Z",
     "start_time": "2018-05-12T06:23:40.354289Z"
    },
    "collapsed": true
   },
   "outputs": [],
   "source": [
    "import numpy as np\n",
    "import pandas as pd\n",
    "import matplotlib.pyplot as plt\n",
    "import seaborn as sns\n",
    "import bs4\n",
    "import requests\n",
    "import warnings\n",
    "import re\n",
    "\n",
    "from matplotlib import rcParams\n",
    "\n",
    "rcParams['font.family'] = 'serif'\n",
    "rcParams['font.serif'] = 'times new roman'\n",
    "\n",
    "%config InlineBackend.figure_format = 'retina'\n",
    "%matplotlib inline\n",
    "\n",
    "warnings.filterwarnings('ignore')"
   ]
  },
  {
   "cell_type": "markdown",
   "metadata": {},
   "source": [
    "## Connecting to Wikipedia\n",
    "Wikipedia has published the Billboard Year-end Hot 100 charts from **1960** to **2017**. The chart for each year is located on its own webpage, so we first iterate through **58** different URL's, collecting the HTML content for each."
   ]
  },
  {
   "cell_type": "code",
   "execution_count": 529,
   "metadata": {
    "ExecuteTime": {
     "end_time": "2018-05-12T06:24:05.739132Z",
     "start_time": "2018-05-12T06:23:42.423416Z"
    }
   },
   "outputs": [],
   "source": [
    "url_base = 'https://en.wikipedia.org/wiki/Billboard_Year-End_Hot_100_singles_of_{}'\n",
    "\n",
    "htmls = dict()\n",
    "for year in range(1960, 2018):\n",
    "    url = url_base.format(year)\n",
    "    html = requests.get(url=url).content\n",
    "    htmls[year] = bs4.BeautifulSoup(html)"
   ]
  },
  {
   "cell_type": "markdown",
   "metadata": {
    "ExecuteTime": {
     "end_time": "2018-05-11T17:19:26.798131Z",
     "start_time": "2018-05-11T17:19:26.606881Z"
    }
   },
   "source": [
    "## Parsing Wiki tables\n",
    "Each HTML file stores the year-end chart data as a table. Below, we parse each table's rows to extract the data needed, which is then converted to a dataframe."
   ]
  },
  {
   "cell_type": "code",
   "execution_count": 336,
   "metadata": {
    "ExecuteTime": {
     "end_time": "2018-05-11T22:19:54.533379Z",
     "start_time": "2018-05-11T22:19:54.251770Z"
    },
    "scrolled": false
   },
   "outputs": [],
   "source": [
    "dfs = list()    # for collecting dataframes\n",
    "\n",
    "for year, soup in htmls.items():\n",
    "    # collect all relevant table rows into a list\n",
    "    data = htmls[year]\\\n",
    "        .find('table', {'class':'wikitable sortable'})\\\n",
    "        .find_all('tr')\n",
    "    rows = [datum.contents for datum in data]\n",
    "    \n",
    "    # the first, and every other <tr> object contains no data\n",
    "    rows = [row[1::2] for row in rows][1:]\n",
    "    \n",
    "    # parse each row and store data in lists\n",
    "    ranks = list()\n",
    "    songs = list()\n",
    "    artists_base = list() # collects only primary artist\n",
    "    artists_all = list() # collects primary and featured artists\n",
    "    for row in rows:\n",
    "        # ranks must be cast as strings because of \"Tie\" as a possible value\n",
    "        ranks.append(str(row[0].contents[0]))\n",
    "        artists_all.append(' '.join(row[2].findAll(text=True)))\n",
    "        \n",
    "        # most primary artist data is a hyperlink, but some are just plaintext\n",
    "        if not isinstance(row[2].contents[0], bs4.NavigableString):\n",
    "            artists_base.append(row[2].contents[0].get('title'))\n",
    "        else:\n",
    "            artists_base.append(str(row[2].contents[0]))\n",
    "        if len(row[1].contents) == 1:\n",
    "            songs.append(str(row[1].contents[0]))\n",
    "        else:\n",
    "            songs.append(str(row[1].contents[1].findAll(text=True)[0]))\n",
    "    \n",
    "    # remove extra quotation marks from beginning and end of song titles\n",
    "    songs = [song.strip(\"\\\"\") for song in songs]\n",
    "    \n",
    "    # convert collected data for each year into its own dataframe\n",
    "    # to be combined later\n",
    "    data = dict(rank=ranks,\n",
    "                song=songs,\n",
    "                artist_base=artists_base,\n",
    "                artist_all=artists_all,\n",
    "                year=year)\n",
    "    df = pd.DataFrame(data)\n",
    "    dfs.append(df)"
   ]
  },
  {
   "cell_type": "markdown",
   "metadata": {},
   "source": [
    "## Combining parsed data\n",
    "Having successfully parsed the chart data for each year, the next step is to combine all the charts into a single dataframe. We also lowercase all dataframe values for consistency. "
   ]
  },
  {
   "cell_type": "code",
   "execution_count": 554,
   "metadata": {
    "ExecuteTime": {
     "end_time": "2018-05-12T17:07:13.808499Z",
     "start_time": "2018-05-12T17:07:13.769476Z"
    }
   },
   "outputs": [
    {
     "data": {
      "text/html": [
       "<div>\n",
       "<style>\n",
       "    .dataframe thead tr:only-child th {\n",
       "        text-align: right;\n",
       "    }\n",
       "\n",
       "    .dataframe thead th {\n",
       "        text-align: left;\n",
       "    }\n",
       "\n",
       "    .dataframe tbody tr th {\n",
       "        vertical-align: top;\n",
       "    }\n",
       "</style>\n",
       "<table border=\"1\" class=\"dataframe\">\n",
       "  <thead>\n",
       "    <tr style=\"text-align: right;\">\n",
       "      <th></th>\n",
       "      <th>index</th>\n",
       "      <th>artist_all</th>\n",
       "      <th>artist_base</th>\n",
       "      <th>rank</th>\n",
       "      <th>song</th>\n",
       "      <th>year</th>\n",
       "    </tr>\n",
       "  </thead>\n",
       "  <tbody>\n",
       "    <tr>\n",
       "      <th>5796</th>\n",
       "      <td>95</td>\n",
       "      <td>camila cabello  featuring  young thug</td>\n",
       "      <td>camila cabello</td>\n",
       "      <td>96</td>\n",
       "      <td>havana</td>\n",
       "      <td>2017</td>\n",
       "    </tr>\n",
       "    <tr>\n",
       "      <th>5797</th>\n",
       "      <td>96</td>\n",
       "      <td>maroon 5  featuring  sza</td>\n",
       "      <td>maroon 5</td>\n",
       "      <td>97</td>\n",
       "      <td>what lovers do</td>\n",
       "      <td>2017</td>\n",
       "    </tr>\n",
       "    <tr>\n",
       "      <th>5798</th>\n",
       "      <td>97</td>\n",
       "      <td>blackbear</td>\n",
       "      <td>blackbear (musician)</td>\n",
       "      <td>98</td>\n",
       "      <td>do re mi</td>\n",
       "      <td>2017</td>\n",
       "    </tr>\n",
       "    <tr>\n",
       "      <th>5799</th>\n",
       "      <td>98</td>\n",
       "      <td>xxxtentacion</td>\n",
       "      <td>xxxtentacion</td>\n",
       "      <td>99</td>\n",
       "      <td>look at me!</td>\n",
       "      <td>2017</td>\n",
       "    </tr>\n",
       "    <tr>\n",
       "      <th>5800</th>\n",
       "      <td>99</td>\n",
       "      <td>keith urban  featuring  carrie underwood</td>\n",
       "      <td>keith urban</td>\n",
       "      <td>100</td>\n",
       "      <td>the fighter</td>\n",
       "      <td>2017</td>\n",
       "    </tr>\n",
       "  </tbody>\n",
       "</table>\n",
       "</div>"
      ],
      "text/plain": [
       "      index                                artist_all           artist_base  \\\n",
       "5796     95     camila cabello  featuring  young thug        camila cabello   \n",
       "5797     96                  maroon 5  featuring  sza              maroon 5   \n",
       "5798     97                                 blackbear  blackbear (musician)   \n",
       "5799     98                              xxxtentacion          xxxtentacion   \n",
       "5800     99  keith urban  featuring  carrie underwood           keith urban   \n",
       "\n",
       "     rank            song  year  \n",
       "5796   96          havana  2017  \n",
       "5797   97  what lovers do  2017  \n",
       "5798   98        do re mi  2017  \n",
       "5799   99     look at me!  2017  \n",
       "5800  100     the fighter  2017  "
      ]
     },
     "execution_count": 554,
     "metadata": {},
     "output_type": "execute_result"
    }
   ],
   "source": [
    "billboard = pd.concat(dfs, axis=0)\n",
    "billboard[['song', 'artist_all', 'artist_base']]\\\n",
    "    = billboard[['song', 'artist_all', 'artist_base']].applymap(str.lower)\n",
    "billboard = billboard.reset_index()\n",
    "billboard.tail(5)"
   ]
  },
  {
   "cell_type": "markdown",
   "metadata": {},
   "source": [
    "We manually fix errors that cannot be automated. For example, automating the conversion from **lamp-lighter** to **lamplighter** would also mean **happy-go-lucky** is converted to **happygolucky**. Additionally, many song and artist names stored on Wikipedia are less-popular variants that need to be manually normalized."
   ]
  },
  {
   "cell_type": "code",
   "execution_count": 555,
   "metadata": {
    "ExecuteTime": {
     "end_time": "2018-05-12T17:07:16.763104Z",
     "start_time": "2018-05-12T17:07:16.525745Z"
    }
   },
   "outputs": [],
   "source": [
    "billboard.at[33, 'song'] = 'night' # fix HTML error\n",
    "billboard.at[61, 'artist_base'] = 'the safaris' # remove (page not found)\n",
    "billboard.at[126, 'artist_base'] = 'dick and deedee' # change from \"dee dee\"\n",
    "billboard.at[283, 'artist_base'] = 'dick and deedee' # change from \"dee dee\"\n",
    "billboard.at[57, 'song'] = 'the old lamplighter' # change from \"lamp-lighter\"\n",
    "billboard.at[238, 'song'] = 'theme from dr kildare' # remove parantheticals\n",
    "\n",
    "for index in [145, 211, 266, 285, 331, 375]:\n",
    "    billboard.at[index, 'artist_base'] = 'dion' # remove last name\n",
    "\n",
    "billboard.at[347, 'song'] = 'memphis' # remove tennessee\n",
    "billboard.at[388, 'song'] = 'fly me to the moon' # remove bossa nova\n",
    "billboard.at[442, 'artist_base'] = 'the rip chords' # use artist_all value\n",
    "billboard.at[489, 'song'] = 'walk dont run' # remove year\n",
    "billboard.at[686, 'song'] = 'just my style' # remove \"she's\"\n",
    "billboard.at[871, 'artist_base'] = 'tommy boyce' # remove second artist\n",
    "billboard.at[936, 'artist_base'] = 'smokey robinson and the miracles' # add lead\n",
    "billboard.at[2798, 'song'] = 'fight for your right' # use shortened title\n",
    "billboard.at[1025, 'artist_base'] = 'the moments' # use artist_all\n",
    "billboard.at[1084, 'artist_base'] = '100 proof aged in soul' # longer name\n",
    "billboard.at[1191, 'song'] = 'i am i said' # remove ellipses\n",
    "billboard.at[1193, 'song'] = 'dont knock my love part 1'\n",
    "billboard.at[1200, 'song'] = 'somos novios its impossible' # add translation\n",
    "billboard.at[1264, 'artist_base'] = 'dr hook' # remove \"medicine show\"\n",
    "billboard.at[1290, 'artist_base'] = 'stephen schwartz'\n",
    "billboard.at[1371, 'song'] = 'do you want to dance' # fix from \"wanna\"\n",
    "billboard.at[1481, 'artist_base'] = 'donny and marie osmond'\n",
    "billboard.at[1481, 'song'] = 'im leaving it all up to you' # add \"all\"\n",
    "billboard.at[1565, 'song'] = 'one man woman one woman man' # fix spacing\n",
    "billboard.at[1749, 'song'] = 'swayin to the music slow dancin' # fix from \"dancing\"\n",
    "billboard.at[1773, 'artist_base'] = 'david dundas' # remove lord\n",
    "billboard.at[1800, 'artist_base'] = 'cj and co' # shorten from \"company\"\n",
    "billboard.at[1946, 'artist_base'] = 'dr hook' # remove \"medicine show\"\n",
    "billboard.at[2190, 'artist_base'] = 'hall and oates'\n",
    "billboard.at[2320, 'artist_base'] = 'frida' # use stage name\n",
    "billboard.at[2601, 'artist_base'] = 'dionne warwick' # remove \"and friends\"\n",
    "billboard.at[2670, 'song'] = 'silent running'\n",
    "billboard.at[2689, 'artist_base'] = 'run dmc'\n",
    "\n",
    "for index in [2860, 2863, 3065]:\n",
    "    billboard.at[index, 'artist_base'] = 'pebbles' # use artist_all\n",
    "\n",
    "for index in [2718, 2978]:\n",
    "    billboard.at[index, 'artist_base'] = 'tiffany' # remove last name\n",
    "    \n",
    "for index in [2989, 3204, 3321, 3531, 3575]:\n",
    "    billboard.at[index, 'artist_base'] = 'vanessa williams' # remove middle initial\n",
    "\n",
    "for index in [3356, 3461, 3551, 3889, 4380]:\n",
    "    billboard.at[index, 'artist_base'] = '2pac' # use stage name\n",
    "\n",
    "for index in [3453, 3580]:\n",
    "    billboard.at[index, 'artist_base'] = 'immature' # change from \"imx\"\n",
    "\n",
    "for index in [3500, 3537, 3549, 3598, 3616, 3802, 3914, 3976, 4265, 4289]:\n",
    "    billboard.at[index, 'artist_base'] = 'brandy' # remove last name\n",
    "\n",
    "for index in [3703, 3705, 3819, 3847, 3868, 3995, 4215, 4218, 4742]: \n",
    "    billboard.at[index, 'artist_base'] = 'puff daddy' # change from \"sean combs\"\n",
    "\n",
    "billboard.at[3890, 'artist_base'] = 'luke' # change from \"luther campbell\"\n",
    "\n",
    "for index in [3943, 4331]:\n",
    "    billboard.at[index, 'artist_base'] = 'tyrese' # remove last name\n",
    "\n",
    "billboard.at[3993, 'song'] = 'lesson in leavin' # remove \"a\"\n",
    "billboard.at[4086, 'artist_base'] = 'kandi' # remove last name\n",
    "billboard.at[4174, 'artist_base'] = 'romeo' # remove last name\n",
    "billboard.at[4353, 'song'] = 'why dont you and i'\n",
    "billboard.at[4475, 'song'] = 'why dont you and i'\n",
    "billboard.at[4593, 'song'] = 'numb encore'\n",
    "billboard.at[4967, 'artist_base'] = 'young money' # remove \"entertainment\"\n",
    "billboard.at[4967, 'song'] = 'every girl in the world'\n",
    "billboard.at[5321, 'song'] = 'cups' # remove paranthetical\n",
    "\n",
    "for index in [5424, 5552, 5590]:\n",
    "    billboard.at[index, 'artist_base'] = 'sia' # remove last name\n",
    "    \n",
    "billboard.at[2190, 'song'] = 'youve lost that lovin feeling' # add ending \"g\"\n",
    "billboard.at[5323, 'song'] = 'scream and shout' # convert \"&\""
   ]
  },
  {
   "cell_type": "code",
   "execution_count": 556,
   "metadata": {
    "ExecuteTime": {
     "end_time": "2018-05-12T17:07:26.134463Z",
     "start_time": "2018-05-12T17:07:26.117373Z"
    }
   },
   "outputs": [
    {
     "data": {
      "text/html": [
       "<div>\n",
       "<style>\n",
       "    .dataframe thead tr:only-child th {\n",
       "        text-align: right;\n",
       "    }\n",
       "\n",
       "    .dataframe thead th {\n",
       "        text-align: left;\n",
       "    }\n",
       "\n",
       "    .dataframe tbody tr th {\n",
       "        vertical-align: top;\n",
       "    }\n",
       "</style>\n",
       "<table border=\"1\" class=\"dataframe\">\n",
       "  <thead>\n",
       "    <tr style=\"text-align: right;\">\n",
       "      <th></th>\n",
       "      <th>index</th>\n",
       "      <th>artist_all</th>\n",
       "      <th>artist_base</th>\n",
       "      <th>rank</th>\n",
       "      <th>song</th>\n",
       "      <th>year</th>\n",
       "    </tr>\n",
       "  </thead>\n",
       "  <tbody>\n",
       "    <tr>\n",
       "      <th>3556</th>\n",
       "      <td>55</td>\n",
       "      <td>michael jackson  and  janet jackson</td>\n",
       "      <td>michael jackson</td>\n",
       "      <td>56</td>\n",
       "      <td>scream</td>\n",
       "      <td>1995</td>\n",
       "    </tr>\n",
       "    <tr>\n",
       "      <th>5244</th>\n",
       "      <td>43</td>\n",
       "      <td>usher</td>\n",
       "      <td>usher (entertainer)</td>\n",
       "      <td>44</td>\n",
       "      <td>scream</td>\n",
       "      <td>2012</td>\n",
       "    </tr>\n",
       "    <tr>\n",
       "      <th>5323</th>\n",
       "      <td>22</td>\n",
       "      <td>will.i.am  featuring  britney spears</td>\n",
       "      <td>will.i.am</td>\n",
       "      <td>23</td>\n",
       "      <td>scream and shout</td>\n",
       "      <td>2013</td>\n",
       "    </tr>\n",
       "  </tbody>\n",
       "</table>\n",
       "</div>"
      ],
      "text/plain": [
       "      index                            artist_all          artist_base rank  \\\n",
       "3556     55   michael jackson  and  janet jackson      michael jackson   56   \n",
       "5244     43                                 usher  usher (entertainer)   44   \n",
       "5323     22  will.i.am  featuring  britney spears            will.i.am   23   \n",
       "\n",
       "                  song  year  \n",
       "3556            scream  1995  \n",
       "5244            scream  2012  \n",
       "5323  scream and shout  2013  "
      ]
     },
     "execution_count": 556,
     "metadata": {},
     "output_type": "execute_result"
    }
   ],
   "source": [
    "billboard[billboard.song.str.contains('scream')]"
   ]
  },
  {
   "cell_type": "markdown",
   "metadata": {},
   "source": [
    "## Removing disambiguations\n",
    "One quirk of scraping data off Wikipedia is that the artist_base names come with parantheticals to \"disambiguate\" the entity (ex: **tlc** could refer to a band or a television channel). Since such disambiguations are unnecessary for our purposes, we remove these."
   ]
  },
  {
   "cell_type": "code",
   "execution_count": 557,
   "metadata": {
    "ExecuteTime": {
     "end_time": "2018-05-12T17:07:32.156592Z",
     "start_time": "2018-05-12T17:07:32.137001Z"
    }
   },
   "outputs": [
    {
     "data": {
      "text/html": [
       "<div>\n",
       "<style>\n",
       "    .dataframe thead tr:only-child th {\n",
       "        text-align: right;\n",
       "    }\n",
       "\n",
       "    .dataframe thead th {\n",
       "        text-align: left;\n",
       "    }\n",
       "\n",
       "    .dataframe tbody tr th {\n",
       "        vertical-align: top;\n",
       "    }\n",
       "</style>\n",
       "<table border=\"1\" class=\"dataframe\">\n",
       "  <thead>\n",
       "    <tr style=\"text-align: right;\">\n",
       "      <th></th>\n",
       "      <th>index</th>\n",
       "      <th>artist_all</th>\n",
       "      <th>artist_base</th>\n",
       "      <th>rank</th>\n",
       "      <th>song</th>\n",
       "      <th>year</th>\n",
       "    </tr>\n",
       "  </thead>\n",
       "  <tbody>\n",
       "    <tr>\n",
       "      <th>1682</th>\n",
       "      <td>81</td>\n",
       "      <td>orleans</td>\n",
       "      <td>orleans (band)</td>\n",
       "      <td>82</td>\n",
       "      <td>still the one</td>\n",
       "      <td>1976</td>\n",
       "    </tr>\n",
       "    <tr>\n",
       "      <th>2395</th>\n",
       "      <td>94</td>\n",
       "      <td>stephen bishop</td>\n",
       "      <td>stephen bishop (musician)</td>\n",
       "      <td>95</td>\n",
       "      <td>it might be you</td>\n",
       "      <td>1983</td>\n",
       "    </tr>\n",
       "    <tr>\n",
       "      <th>1291</th>\n",
       "      <td>90</td>\n",
       "      <td>yes</td>\n",
       "      <td>yes (band)</td>\n",
       "      <td>91</td>\n",
       "      <td>roundabout</td>\n",
       "      <td>1972</td>\n",
       "    </tr>\n",
       "    <tr>\n",
       "      <th>4554</th>\n",
       "      <td>53</td>\n",
       "      <td>usher  and  alicia keys</td>\n",
       "      <td>usher (entertainer)</td>\n",
       "      <td>54</td>\n",
       "      <td>my boo</td>\n",
       "      <td>2005</td>\n",
       "    </tr>\n",
       "    <tr>\n",
       "      <th>4838</th>\n",
       "      <td>37</td>\n",
       "      <td>plies  featuring  ne-yo</td>\n",
       "      <td>plies (rapper)</td>\n",
       "      <td>38</td>\n",
       "      <td>bust it baby (part 2)</td>\n",
       "      <td>2008</td>\n",
       "    </tr>\n",
       "  </tbody>\n",
       "</table>\n",
       "</div>"
      ],
      "text/plain": [
       "      index               artist_all                artist_base rank  \\\n",
       "1682     81                  orleans             orleans (band)   82   \n",
       "2395     94           stephen bishop  stephen bishop (musician)   95   \n",
       "1291     90                      yes                 yes (band)   91   \n",
       "4554     53  usher  and  alicia keys        usher (entertainer)   54   \n",
       "4838     37  plies  featuring  ne-yo             plies (rapper)   38   \n",
       "\n",
       "                       song  year  \n",
       "1682          still the one  1976  \n",
       "2395        it might be you  1983  \n",
       "1291             roundabout  1972  \n",
       "4554                 my boo  2005  \n",
       "4838  bust it baby (part 2)  2008  "
      ]
     },
     "execution_count": 557,
     "metadata": {},
     "output_type": "execute_result"
    }
   ],
   "source": [
    "billboard[billboard.artist_base.str.contains('\\(')].sample(5)"
   ]
  },
  {
   "cell_type": "code",
   "execution_count": 558,
   "metadata": {
    "ExecuteTime": {
     "end_time": "2018-05-12T17:07:42.068617Z",
     "start_time": "2018-05-12T17:07:42.036298Z"
    },
    "collapsed": true
   },
   "outputs": [],
   "source": [
    "billboard[['artist_base', 'artist_all']]\\\n",
    "    = billboard[['artist_base', 'artist_all']].applymap(\n",
    "        lambda x: re.sub(r'\\(.*', '', x).strip()\n",
    "    )"
   ]
  },
  {
   "cell_type": "markdown",
   "metadata": {},
   "source": [
    "## Extracting featured artists\n",
    "A number of songs are performed by a primary artist and a **featured** artist the primary invites to record. Fortunately, Wikipedia is consistent in that it always denotes such collaborations with the word \"featuring\"."
   ]
  },
  {
   "cell_type": "code",
   "execution_count": 559,
   "metadata": {
    "ExecuteTime": {
     "end_time": "2018-05-12T17:07:47.376161Z",
     "start_time": "2018-05-12T17:07:47.361483Z"
    }
   },
   "outputs": [
    {
     "data": {
      "text/plain": [
       "True"
      ]
     },
     "execution_count": 559,
     "metadata": {},
     "output_type": "execute_result"
    }
   ],
   "source": [
    "billboard.artist_all.str.contains('featuring').sum()\\\n",
    "    == billboard.artist_all.str.contains('feat').sum()"
   ]
  },
  {
   "cell_type": "code",
   "execution_count": 560,
   "metadata": {
    "ExecuteTime": {
     "end_time": "2018-05-12T17:07:48.580767Z",
     "start_time": "2018-05-12T17:07:48.557738Z"
    },
    "run_control": {
     "marked": true
    }
   },
   "outputs": [
    {
     "data": {
      "text/html": [
       "<div>\n",
       "<style>\n",
       "    .dataframe thead tr:only-child th {\n",
       "        text-align: right;\n",
       "    }\n",
       "\n",
       "    .dataframe thead th {\n",
       "        text-align: left;\n",
       "    }\n",
       "\n",
       "    .dataframe tbody tr th {\n",
       "        vertical-align: top;\n",
       "    }\n",
       "</style>\n",
       "<table border=\"1\" class=\"dataframe\">\n",
       "  <thead>\n",
       "    <tr style=\"text-align: right;\">\n",
       "      <th></th>\n",
       "      <th>index</th>\n",
       "      <th>artist_all</th>\n",
       "      <th>artist_base</th>\n",
       "      <th>rank</th>\n",
       "      <th>song</th>\n",
       "      <th>year</th>\n",
       "      <th>artist_featured</th>\n",
       "    </tr>\n",
       "  </thead>\n",
       "  <tbody>\n",
       "    <tr>\n",
       "      <th>4521</th>\n",
       "      <td>20</td>\n",
       "      <td>ciara  featuring  ludacris</td>\n",
       "      <td>ciara</td>\n",
       "      <td>21</td>\n",
       "      <td>oh</td>\n",
       "      <td>2005</td>\n",
       "      <td>ludacris</td>\n",
       "    </tr>\n",
       "    <tr>\n",
       "      <th>1639</th>\n",
       "      <td>38</td>\n",
       "      <td>captain &amp; tennille</td>\n",
       "      <td>captain &amp; tennille</td>\n",
       "      <td>39</td>\n",
       "      <td>lonely night (angel face)</td>\n",
       "      <td>1976</td>\n",
       "      <td>NaN</td>\n",
       "    </tr>\n",
       "    <tr>\n",
       "      <th>1193</th>\n",
       "      <td>92</td>\n",
       "      <td>wilson pickett</td>\n",
       "      <td>wilson pickett</td>\n",
       "      <td>93</td>\n",
       "      <td>dont knock my love part 1</td>\n",
       "      <td>1971</td>\n",
       "      <td>NaN</td>\n",
       "    </tr>\n",
       "    <tr>\n",
       "      <th>2783</th>\n",
       "      <td>82</td>\n",
       "      <td>crowded house</td>\n",
       "      <td>crowded house</td>\n",
       "      <td>83</td>\n",
       "      <td>something so strong</td>\n",
       "      <td>1987</td>\n",
       "      <td>NaN</td>\n",
       "    </tr>\n",
       "    <tr>\n",
       "      <th>4323</th>\n",
       "      <td>22</td>\n",
       "      <td>fabolous  featuring  tamia</td>\n",
       "      <td>fabolous</td>\n",
       "      <td>23</td>\n",
       "      <td>into you</td>\n",
       "      <td>2003</td>\n",
       "      <td>tamia</td>\n",
       "    </tr>\n",
       "  </tbody>\n",
       "</table>\n",
       "</div>"
      ],
      "text/plain": [
       "      index                  artist_all         artist_base rank  \\\n",
       "4521     20  ciara  featuring  ludacris               ciara   21   \n",
       "1639     38          captain & tennille  captain & tennille   39   \n",
       "1193     92              wilson pickett      wilson pickett   93   \n",
       "2783     82               crowded house       crowded house   83   \n",
       "4323     22  fabolous  featuring  tamia            fabolous   23   \n",
       "\n",
       "                           song  year artist_featured  \n",
       "4521                         oh  2005        ludacris  \n",
       "1639  lonely night (angel face)  1976             NaN  \n",
       "1193  dont knock my love part 1  1971             NaN  \n",
       "2783        something so strong  1987             NaN  \n",
       "4323                   into you  2003           tamia  "
      ]
     },
     "execution_count": 560,
     "metadata": {},
     "output_type": "execute_result"
    }
   ],
   "source": [
    "def extract_featured_artist(x):\n",
    "    match = re.match(\".*\\sfeaturing\\s(.*)\", x)\n",
    "    if match:\n",
    "        return match[1]\n",
    "    else:\n",
    "        return np.nan\n",
    "\n",
    "billboard['artist_featured'] = billboard.artist_all.apply(extract_featured_artist)\n",
    "billboard.sample(5)"
   ]
  },
  {
   "cell_type": "markdown",
   "metadata": {},
   "source": [
    "## Resolving ties"
   ]
  },
  {
   "cell_type": "markdown",
   "metadata": {},
   "source": [
    "Occasionally, some songs tie for a particular Billboard rank, in which case Wikipedia records the rank as \"Tie\". To address this, we convert all rank values of \"Tie\" to null values. Because the data is ordered sequentially by rank, we can perform a simple linear interpolation to impute the null values."
   ]
  },
  {
   "cell_type": "code",
   "execution_count": 561,
   "metadata": {
    "ExecuteTime": {
     "end_time": "2018-05-12T17:07:54.132774Z",
     "start_time": "2018-05-12T17:07:54.124844Z"
    }
   },
   "outputs": [],
   "source": [
    "billboard['rank'] = billboard['rank'].replace('Tie', np.nan).astype(float).interpolate()"
   ]
  },
  {
   "cell_type": "markdown",
   "metadata": {},
   "source": [
    "The only time linear interpolation fails however is when the tie occurs at position 100. The next rank will be 1, resulting in an interpolated value of 50.5. This occurs only once, and we manually update the rank."
   ]
  },
  {
   "cell_type": "code",
   "execution_count": 562,
   "metadata": {
    "ExecuteTime": {
     "end_time": "2018-05-12T17:07:55.421862Z",
     "start_time": "2018-05-12T17:07:55.413432Z"
    }
   },
   "outputs": [],
   "source": [
    "billboard['rank'][billboard.year == 1969][100] = 100\n",
    "billboard['rank'] = billboard['rank'].astype(int)"
   ]
  },
  {
   "cell_type": "markdown",
   "metadata": {},
   "source": [
    "## Save data"
   ]
  },
  {
   "cell_type": "code",
   "execution_count": 563,
   "metadata": {
    "ExecuteTime": {
     "end_time": "2018-05-12T17:07:57.639425Z",
     "start_time": "2018-05-12T17:07:57.603867Z"
    }
   },
   "outputs": [],
   "source": [
    "billboard.to_csv('../data/billboard.csv', index=None)"
   ]
  }
 ],
 "metadata": {
  "kernelspec": {
   "display_name": "Python-3.6",
   "language": "python",
   "name": "python-3.6"
  },
  "language_info": {
   "codemirror_mode": {
    "name": "ipython",
    "version": 3
   },
   "file_extension": ".py",
   "mimetype": "text/x-python",
   "name": "python",
   "nbconvert_exporter": "python",
   "pygments_lexer": "ipython3",
   "version": "3.6.3"
  },
  "varInspector": {
   "cols": {
    "lenName": 16,
    "lenType": 16,
    "lenVar": 40
   },
   "kernels_config": {
    "python": {
     "delete_cmd_postfix": "",
     "delete_cmd_prefix": "del ",
     "library": "var_list.py",
     "varRefreshCmd": "print(var_dic_list())"
    },
    "r": {
     "delete_cmd_postfix": ") ",
     "delete_cmd_prefix": "rm(",
     "library": "var_list.r",
     "varRefreshCmd": "cat(var_dic_list()) "
    }
   },
   "types_to_exclude": [
    "module",
    "function",
    "builtin_function_or_method",
    "instance",
    "_Feature"
   ],
   "window_display": false
  }
 },
 "nbformat": 4,
 "nbformat_minor": 2
}
